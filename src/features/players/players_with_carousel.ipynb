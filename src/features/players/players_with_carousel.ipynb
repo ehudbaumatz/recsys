{
 "cells": [
  {
   "cell_type": "markdown",
   "metadata": {},
   "source": [
    "# Player types\n",
    "understanding types of players requires 3 differnt tables: player, extra (stores carousel) and bid (playlist - type of playlist)\n",
    "### 1) load playlists data (hive)\n",
    "### 2) load extras with extra type (mongo)\n",
    "### 3) load players with carousel extra (mongo)"
   ]
  },
  {
   "cell_type": "code",
   "execution_count": 1,
   "metadata": {
    "collapsed": true
   },
   "outputs": [],
   "source": [
    "import pandas as pd"
   ]
  },
  {
   "cell_type": "markdown",
   "metadata": {},
   "source": [
    "## 1) load playlist (Bid) data (hive)\n",
    "```\n",
    "CREATE TABLE temp_e_bid\n",
    "ROW FORMAT DELIMITED FIELDS TERMINATED BY '|'\n",
    "LINES TERMINATED BY '\\n' AS\n",
    "select id,company_id,semantic,dynamic,static_first,name\n",
    "from vidible_dim_bid\n",
    "where deleted = 0\n",
    "order by id desc\n",
    "```"
   ]
  },
  {
   "cell_type": "code",
   "execution_count": 57,
   "metadata": {
    "collapsed": false
   },
   "outputs": [
    {
     "name": "stdout",
     "output_type": "stream",
     "text": [
      "bid_df size:  166031\n"
     ]
    },
    {
     "data": {
      "text/html": [
       "<div>\n",
       "<table border=\"1\" class=\"dataframe\">\n",
       "  <thead>\n",
       "    <tr style=\"text-align: right;\">\n",
       "      <th></th>\n",
       "      <th>id</th>\n",
       "      <th>cid</th>\n",
       "      <th>semantic</th>\n",
       "      <th>dynamic</th>\n",
       "      <th>static_first</th>\n",
       "    </tr>\n",
       "  </thead>\n",
       "  <tbody>\n",
       "    <tr>\n",
       "      <th>0</th>\n",
       "      <td>597d7d81c214e31eb31bd1e6</td>\n",
       "      <td>545db032e4b0af1a81424b48</td>\n",
       "      <td>False</td>\n",
       "      <td>False</td>\n",
       "      <td>True</td>\n",
       "    </tr>\n",
       "    <tr>\n",
       "      <th>1</th>\n",
       "      <td>597d1bd91de5a15b594e9ff8</td>\n",
       "      <td>57d325e276a6057ba4a05a00</td>\n",
       "      <td>False</td>\n",
       "      <td>False</td>\n",
       "      <td>True</td>\n",
       "    </tr>\n",
       "  </tbody>\n",
       "</table>\n",
       "</div>"
      ],
      "text/plain": [
       "                         id                       cid semantic dynamic  \\\n",
       "0  597d7d81c214e31eb31bd1e6  545db032e4b0af1a81424b48    False   False   \n",
       "1  597d1bd91de5a15b594e9ff8  57d325e276a6057ba4a05a00    False   False   \n",
       "\n",
       "  static_first  \n",
       "0         True  \n",
       "1         True  "
      ]
     },
     "execution_count": 57,
     "metadata": {},
     "output_type": "execute_result"
    }
   ],
   "source": [
    "bid_df = pd.read_csv('./bid_2017_07_30.csv', sep='|',index_col=False ,names=['id','cid','semantic','dynamic','static_first'], skiprows=1 )\n",
    "print 'bid_df size: ', bid_df.shape[0]\n",
    "bid_df.head(2)"
   ]
  },
  {
   "cell_type": "markdown",
   "metadata": {},
   "source": [
    "## 2) Extras \n",
    "**extraId,subType,uiPosition** , currently subType==CAROUSEL always\n",
    "```\n",
    "var extrasWithCarousel = db.extra.find({deleted:false, subType:\"CAROUSEL\"});\n",
    "var temp;\n",
    "print('extraId,subType,uiPosition')\n",
    "while ( extrasWithCarousel.hasNext() ){\n",
    "   temp = extrasWithCarousel.next();\n",
    "   print(temp._id.valueOf() + ',' + temp.subType + ',' + temp.uiPosition)\n",
    "}\n",
    "```"
   ]
  },
  {
   "cell_type": "code",
   "execution_count": 58,
   "metadata": {
    "collapsed": false
   },
   "outputs": [
    {
     "name": "stdout",
     "output_type": "stream",
     "text": [
      "['DEFAULT' 'BOTTOM']\n"
     ]
    },
    {
     "data": {
      "text/html": [
       "<div>\n",
       "<table border=\"1\" class=\"dataframe\">\n",
       "  <thead>\n",
       "    <tr style=\"text-align: right;\">\n",
       "      <th></th>\n",
       "      <th>extraId</th>\n",
       "      <th>subType</th>\n",
       "      <th>uiPosition</th>\n",
       "    </tr>\n",
       "  </thead>\n",
       "  <tbody>\n",
       "    <tr>\n",
       "      <th>28</th>\n",
       "      <td>551d1c1ee4b0297fa1beebcd</td>\n",
       "      <td>CAROUSEL</td>\n",
       "      <td>BOTTOM</td>\n",
       "    </tr>\n",
       "    <tr>\n",
       "      <th>32</th>\n",
       "      <td>55388b54e4b099bcc1225caa</td>\n",
       "      <td>CAROUSEL</td>\n",
       "      <td>BOTTOM</td>\n",
       "    </tr>\n",
       "    <tr>\n",
       "      <th>38</th>\n",
       "      <td>559f6a87e4b0c0b7288dadb6</td>\n",
       "      <td>CAROUSEL</td>\n",
       "      <td>BOTTOM</td>\n",
       "    </tr>\n",
       "  </tbody>\n",
       "</table>\n",
       "</div>"
      ],
      "text/plain": [
       "                     extraId   subType uiPosition\n",
       "28  551d1c1ee4b0297fa1beebcd  CAROUSEL     BOTTOM\n",
       "32  55388b54e4b099bcc1225caa  CAROUSEL     BOTTOM\n",
       "38  559f6a87e4b0c0b7288dadb6  CAROUSEL     BOTTOM"
      ]
     },
     "execution_count": 58,
     "metadata": {},
     "output_type": "execute_result"
    }
   ],
   "source": [
    "extras_df = pd.read_csv('./extras_with_carousel_2017_07_30.csv')\n",
    "extras_df['uiPosition'].replace('undefined','DEFAULT', inplace=True) # some are undefined but java fallback to default\n",
    "print extras_df.uiPosition.unique()\n",
    "extras_df[extras_df['uiPosition'] != 'DEFAULT'].head(20)"
   ]
  },
  {
   "cell_type": "markdown",
   "metadata": {},
   "source": [
    "## 3) players\n",
    "\n",
    "mongo query for players with extra + additional info\n",
    "\n",
    "fields: **pid,parent_cid,cid,extraIds,templateId,staticVideos,bidId,playlistId**\n",
    "\n",
    "```\n",
    "var extrasWithCarousel = db.extra.find({deleted:false, subType:\"CAROUSEL\"});\n",
    "var temp, extraIds = [], extraValueOfIds = [];\n",
    "while ( extrasWithCarousel.hasNext() ){\n",
    "   temp = extrasWithCarousel.next()._id;\n",
    "   extraIds.push(temp);\n",
    "   extraValueOfIds.push(temp.valueOf());\n",
    "}\n",
    "\n",
    "var playersWithCarousel = db.player.find({\n",
    "  deleted:false,\n",
    "  $or:[\n",
    "    {extraConfigs:{$exists:true, $elemMatch: {\"extraId\" : { \"$in\": extraIds}}}},\n",
    "    { \"templateConfiguration.extraConfigs\": {$exists:true, $elemMatch: {\"extraId\" : { \"$in\": extraIds}}}}\n",
    "  ] },\n",
    "  {_id:1, parentCompanyId:1, companyId:1, templateId:1, templateConfiguration:1, extraConfigs:1, bidId:1,playlistId:1,videoIds:1});\n",
    "var parentCompanyId,eConfig,eId,templateId,staticVideos,bidId,playlistId,playerIds = [];\n",
    "print('pid,parent_cid,cid,extraIds,templateId,staticVideos,bidId,playlistId'); //header\n",
    "while ( playersWithCarousel.hasNext() ){\n",
    "   temp = playersWithCarousel.next();\n",
    "\n",
    "   eId = \"\";\n",
    "   eConfig = (temp.templateConfiguration && temp.templateConfiguration.extraConfigs && temp.templateConfiguration.extraConfigs != 'NULL_OVERRIDE') ? temp.templateConfiguration.extraConfigs : temp.extraConfigs;\n",
    "   if (eConfig && typeof eConfig == 'object' && eConfig[0] && eConfig[0].extraId  && eConfig.length > 0) {\n",
    "      for (i in eConfig) {\n",
    "         extra = eConfig[i];\n",
    "\t if (extra.extraId && extraValueOfIds.indexOf(extra.extraId.valueOf()) != -1) {\n",
    "           eId = extra.extraId.valueOf();\n",
    "           continue;\n",
    "         }\n",
    "      }\n",
    "   }\n",
    "   parentCompanyId = temp.parentCompanyId ? temp.parentCompanyId.valueOf() : ''\n",
    "   templateId = temp.templateId ? temp.templateId.valueOf() : ''\n",
    "   staticVideos = temp.videoIds ? temp.videoIds.length : 0; //number of static videos\n",
    "   bidId = temp.bidId ? temp.bidId.valueOf() : '';\n",
    "   playlistId = temp.playlistId ? temp.playlistId.valueOf() : '';\n",
    "   print(temp._id.valueOf() + ',' + parentCompanyId + ',' + temp.companyId.valueOf() + ',' +eId + ',' + templateId + ',' + staticVideos + ',' + bidId + ',' + playlistId);\n",
    "   playerIds.push(temp.valueOf());\n",
    "}\n",
    "```\n",
    "\n",
    "### after reading it from file - we merge it in order to enrich it with data from Bid and Extra"
   ]
  },
  {
   "cell_type": "code",
   "execution_count": 66,
   "metadata": {
    "collapsed": false
   },
   "outputs": [
    {
     "name": "stdout",
     "output_type": "stream",
     "text": [
      "number of players with carousel:  9485\n",
      "number of players with carousel:  9485\n",
      "number of players with carousel:  9485\n"
     ]
    },
    {
     "data": {
      "text/html": [
       "<div>\n",
       "<table border=\"1\" class=\"dataframe\">\n",
       "  <thead>\n",
       "    <tr style=\"text-align: right;\">\n",
       "      <th></th>\n",
       "      <th>pid</th>\n",
       "      <th>parent_cid</th>\n",
       "      <th>cid_x-pl</th>\n",
       "      <th>templateId</th>\n",
       "      <th>staticVideos</th>\n",
       "      <th>bidId</th>\n",
       "      <th>playlistId</th>\n",
       "      <th>extraId</th>\n",
       "      <th>subType</th>\n",
       "      <th>uiPosition</th>\n",
       "      <th>id</th>\n",
       "      <th>cid_x-bid</th>\n",
       "      <th>semantic</th>\n",
       "      <th>dynamic</th>\n",
       "      <th>static_first</th>\n",
       "    </tr>\n",
       "  </thead>\n",
       "  <tbody>\n",
       "    <tr>\n",
       "      <th>0</th>\n",
       "      <td>57223186e4b0af35cc801d63</td>\n",
       "      <td>50d595ec0364e95588c77bd2</td>\n",
       "      <td>50d595ec0364e95588c77bd2</td>\n",
       "      <td>5668ad07e4b0f82be105f939</td>\n",
       "      <td>0</td>\n",
       "      <td>572192e8e4b0e7aba837de62</td>\n",
       "      <td>NaN</td>\n",
       "      <td>55388b54e4b099bcc1225caa</td>\n",
       "      <td>CAROUSEL</td>\n",
       "      <td>BOTTOM</td>\n",
       "      <td>572192e8e4b0e7aba837de62</td>\n",
       "      <td>551c163d1146fb1188cea145</td>\n",
       "      <td>False</td>\n",
       "      <td>False</td>\n",
       "      <td>True</td>\n",
       "    </tr>\n",
       "    <tr>\n",
       "      <th>1</th>\n",
       "      <td>5723a735e4b0e6cbf9c142e0</td>\n",
       "      <td>5314327fe4b015a18eb92bab</td>\n",
       "      <td>5314327fe4b015a18eb92bab</td>\n",
       "      <td>559ba4619fa0c117ee299ea0</td>\n",
       "      <td>0</td>\n",
       "      <td>57111cd1e4b007de6512a839</td>\n",
       "      <td>NaN</td>\n",
       "      <td>5539dff8e4b09639b4f30375</td>\n",
       "      <td>CAROUSEL</td>\n",
       "      <td>DEFAULT</td>\n",
       "      <td>57111cd1e4b007de6512a839</td>\n",
       "      <td>5314327fe4b015a18eb92bab</td>\n",
       "      <td>False</td>\n",
       "      <td>True</td>\n",
       "      <td>True</td>\n",
       "    </tr>\n",
       "    <tr>\n",
       "      <th>2</th>\n",
       "      <td>5728585fe4b0679e80b68293</td>\n",
       "      <td>56bdff2c67b6233ed4c2d3c5</td>\n",
       "      <td>56be00124076e70ee4171d93</td>\n",
       "      <td>561cd753e4b08c7ae81c8244</td>\n",
       "      <td>0</td>\n",
       "      <td>593971bc955a316f1c4f56d1</td>\n",
       "      <td>NaN</td>\n",
       "      <td>559f6a87e4b0c0b7288dadb6</td>\n",
       "      <td>CAROUSEL</td>\n",
       "      <td>BOTTOM</td>\n",
       "      <td>593971bc955a316f1c4f56d1</td>\n",
       "      <td>564dfd34bbe5c146d4b33c86</td>\n",
       "      <td>False</td>\n",
       "      <td>False</td>\n",
       "      <td>True</td>\n",
       "    </tr>\n",
       "    <tr>\n",
       "      <th>3</th>\n",
       "      <td>5729c273e4b08bc56f3824bc</td>\n",
       "      <td>50d595ec0364e95588c77bd2</td>\n",
       "      <td>50d595ec0364e95588c77bd2</td>\n",
       "      <td>56bca647e4b0a5976ac0b95d</td>\n",
       "      <td>0</td>\n",
       "      <td>53ff82e5e4b0dba7506c3e7b</td>\n",
       "      <td>NaN</td>\n",
       "      <td>559f6a87e4b0c0b7288dadb6</td>\n",
       "      <td>CAROUSEL</td>\n",
       "      <td>BOTTOM</td>\n",
       "      <td>53ff82e5e4b0dba7506c3e7b</td>\n",
       "      <td>50d595ec0364e95588c77bd2</td>\n",
       "      <td>False</td>\n",
       "      <td>False</td>\n",
       "      <td>True</td>\n",
       "    </tr>\n",
       "    <tr>\n",
       "      <th>4</th>\n",
       "      <td>57304a2de4b0cda13709266d</td>\n",
       "      <td>53180f5de4b066208a63279a</td>\n",
       "      <td>53180f5de4b066208a63279a</td>\n",
       "      <td>565ec775e4b092ebc9685cdf</td>\n",
       "      <td>0</td>\n",
       "      <td>565dc414e4b043f1b9be85a8</td>\n",
       "      <td>NaN</td>\n",
       "      <td>5410474ae4b0904615b980cb</td>\n",
       "      <td>CAROUSEL</td>\n",
       "      <td>DEFAULT</td>\n",
       "      <td>565dc414e4b043f1b9be85a8</td>\n",
       "      <td>53180f5de4b066208a63279a</td>\n",
       "      <td>False</td>\n",
       "      <td>False</td>\n",
       "      <td>True</td>\n",
       "    </tr>\n",
       "  </tbody>\n",
       "</table>\n",
       "</div>"
      ],
      "text/plain": [
       "                        pid                parent_cid  \\\n",
       "0  57223186e4b0af35cc801d63  50d595ec0364e95588c77bd2   \n",
       "1  5723a735e4b0e6cbf9c142e0  5314327fe4b015a18eb92bab   \n",
       "2  5728585fe4b0679e80b68293  56bdff2c67b6233ed4c2d3c5   \n",
       "3  5729c273e4b08bc56f3824bc  50d595ec0364e95588c77bd2   \n",
       "4  57304a2de4b0cda13709266d  53180f5de4b066208a63279a   \n",
       "\n",
       "                   cid_x-pl                templateId  staticVideos  \\\n",
       "0  50d595ec0364e95588c77bd2  5668ad07e4b0f82be105f939             0   \n",
       "1  5314327fe4b015a18eb92bab  559ba4619fa0c117ee299ea0             0   \n",
       "2  56be00124076e70ee4171d93  561cd753e4b08c7ae81c8244             0   \n",
       "3  50d595ec0364e95588c77bd2  56bca647e4b0a5976ac0b95d             0   \n",
       "4  53180f5de4b066208a63279a  565ec775e4b092ebc9685cdf             0   \n",
       "\n",
       "                      bidId  playlistId                   extraId   subType  \\\n",
       "0  572192e8e4b0e7aba837de62         NaN  55388b54e4b099bcc1225caa  CAROUSEL   \n",
       "1  57111cd1e4b007de6512a839         NaN  5539dff8e4b09639b4f30375  CAROUSEL   \n",
       "2  593971bc955a316f1c4f56d1         NaN  559f6a87e4b0c0b7288dadb6  CAROUSEL   \n",
       "3  53ff82e5e4b0dba7506c3e7b         NaN  559f6a87e4b0c0b7288dadb6  CAROUSEL   \n",
       "4  565dc414e4b043f1b9be85a8         NaN  5410474ae4b0904615b980cb  CAROUSEL   \n",
       "\n",
       "  uiPosition                        id                 cid_x-bid semantic  \\\n",
       "0     BOTTOM  572192e8e4b0e7aba837de62  551c163d1146fb1188cea145    False   \n",
       "1    DEFAULT  57111cd1e4b007de6512a839  5314327fe4b015a18eb92bab    False   \n",
       "2     BOTTOM  593971bc955a316f1c4f56d1  564dfd34bbe5c146d4b33c86    False   \n",
       "3     BOTTOM  53ff82e5e4b0dba7506c3e7b  50d595ec0364e95588c77bd2    False   \n",
       "4    DEFAULT  565dc414e4b043f1b9be85a8  53180f5de4b066208a63279a    False   \n",
       "\n",
       "  dynamic static_first  \n",
       "0   False         True  \n",
       "1    True         True  \n",
       "2   False         True  \n",
       "3   False         True  \n",
       "4   False         True  "
      ]
     },
     "execution_count": 66,
     "metadata": {},
     "output_type": "execute_result"
    }
   ],
   "source": [
    "players_df = pd.read_csv('./players_with_carousel_2017_07_30.csv')\n",
    "print 'number of players with carousel: ', players_df.shape[0]\n",
    "## merge with extra\n",
    "players_df = players_df.merge(extras_df, left_on='extraIds', right_on='extraId', how='left')\n",
    "players_df.drop('extraIds', axis=1, inplace=True)\n",
    "print 'number of players with carousel: ', players_df.shape[0]\n",
    "\n",
    "##merge with bid\n",
    "players_df = players_df.merge(bid_df, left_on='bidId', right_on='id', how='left',suffixes=['_x-pl', '_x-bid'])\n",
    "print 'number of players with carousel: ', players_df.shape[0]\n",
    "players_df.head()"
   ]
  },
  {
   "cell_type": "code",
   "execution_count": null,
   "metadata": {
    "collapsed": true
   },
   "outputs": [],
   "source": []
  }
 ],
 "metadata": {
  "kernelspec": {
   "display_name": "Python [conda root]",
   "language": "python",
   "name": "conda-root-py"
  },
  "language_info": {
   "codemirror_mode": {
    "name": "ipython",
    "version": 2
   },
   "file_extension": ".py",
   "mimetype": "text/x-python",
   "name": "python",
   "nbconvert_exporter": "python",
   "pygments_lexer": "ipython2",
   "version": "2.7.13"
  }
 },
 "nbformat": 4,
 "nbformat_minor": 2
}
