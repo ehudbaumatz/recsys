{
 "cells": [
  {
   "cell_type": "markdown",
   "metadata": {},
   "source": [
    "# Player types\n",
    "understanding types of players requires 3 differnt tables: player, extra (stores carousel) and bid (playlist - type of playlist)\n",
    "### 1) load players with carousel extra (mongo)\n",
    "### 2) load extras with extra type (mongo)"
   ]
  },
  {
   "cell_type": "code",
   "execution_count": 1,
   "metadata": {
    "collapsed": true
   },
   "outputs": [],
   "source": [
    "import pandas as pd"
   ]
  },
  {
   "cell_type": "markdown",
   "metadata": {},
   "source": [
    "## 1) players\n",
    "\n",
    "mongo query for players with extra + additional info\n",
    "\n",
    "fields: **pid,parent_cid,cid,extraIds,templateId,staticVideos,bidId,playlistId**\n",
    "\n",
    "```\n",
    "var extrasWithCarousel = db.extra.find({deleted:false, subType:\"CAROUSEL\"});\n",
    "var temp, extraIds = [], extraValueOfIds = [];\n",
    "while ( extrasWithCarousel.hasNext() ){\n",
    "   temp = extrasWithCarousel.next()._id;\n",
    "   extraIds.push(temp);\n",
    "   extraValueOfIds.push(temp.valueOf());\n",
    "}\n",
    "\n",
    "var playersWithCarousel = db.player.find({\n",
    "  deleted:false,\n",
    "  $or:[\n",
    "    {extraConfigs:{$exists:true, $elemMatch: {\"extraId\" : { \"$in\": extraIds}}}},\n",
    "    { \"templateConfiguration.extraConfigs\": {$exists:true, $elemMatch: {\"extraId\" : { \"$in\": extraIds}}}}\n",
    "  ] },\n",
    "  {_id:1, parentCompanyId:1, companyId:1, templateId:1, templateConfiguration:1, extraConfigs:1, bidId:1,playlistId:1,videoIds:1});\n",
    "var parentCompanyId,eConfig,eId,templateId,staticVideos,bidId,playlistId,playerIds = [];\n",
    "print('pid,parent_cid,cid,extraIds,templateId,staticVideos,bidId,playlistId'); //header\n",
    "while ( playersWithCarousel.hasNext() ){\n",
    "   temp = playersWithCarousel.next();\n",
    "\n",
    "   eId = \"\";\n",
    "   eConfig = (temp.templateConfiguration && temp.templateConfiguration.extraConfigs && temp.templateConfiguration.extraConfigs != 'NULL_OVERRIDE') ? temp.templateConfiguration.extraConfigs : temp.extraConfigs;\n",
    "   if (eConfig && typeof eConfig == 'object' && eConfig[0] && eConfig[0].extraId  && eConfig.length > 0) {\n",
    "      for (i in eConfig) {\n",
    "         extra = eConfig[i];\n",
    "\t if (extra.extraId && extraValueOfIds.indexOf(extra.extraId.valueOf()) != -1) {\n",
    "           eId = extra.extraId.valueOf();\n",
    "           continue;\n",
    "         }\n",
    "      }\n",
    "   }\n",
    "   parentCompanyId = temp.parentCompanyId ? temp.parentCompanyId.valueOf() : ''\n",
    "   templateId = temp.templateId ? temp.templateId.valueOf() : ''\n",
    "   staticVideos = temp.videoIds ? temp.videoIds.length : 0; //number of static videos\n",
    "   bidId = temp.bidId ? temp.bidId.valueOf() : '';\n",
    "   playlistId = temp.playlistId ? temp.playlistId.valueOf() : '';\n",
    "   print(temp._id.valueOf() + ',' + parentCompanyId + ',' + temp.companyId.valueOf() + ',' +eId + ',' + templateId + ',' + staticVideos + ',' + bidId + ',' + playlistId);\n",
    "   playerIds.push(temp.valueOf());\n",
    "}\n",
    "```"
   ]
  },
  {
   "cell_type": "code",
   "execution_count": 34,
   "metadata": {
    "collapsed": false
   },
   "outputs": [
    {
     "name": "stdout",
     "output_type": "stream",
     "text": [
      "number of players with carousel:  9485\n"
     ]
    },
    {
     "data": {
      "text/html": [
       "<div>\n",
       "<table border=\"1\" class=\"dataframe\">\n",
       "  <thead>\n",
       "    <tr style=\"text-align: right;\">\n",
       "      <th></th>\n",
       "      <th>pid</th>\n",
       "      <th>parent_cid</th>\n",
       "      <th>cid</th>\n",
       "      <th>extraIds</th>\n",
       "      <th>templateId</th>\n",
       "      <th>staticVideos</th>\n",
       "      <th>bidId</th>\n",
       "      <th>playlistId</th>\n",
       "    </tr>\n",
       "  </thead>\n",
       "  <tbody>\n",
       "    <tr>\n",
       "      <th>0</th>\n",
       "      <td>57223186e4b0af35cc801d63</td>\n",
       "      <td>50d595ec0364e95588c77bd2</td>\n",
       "      <td>50d595ec0364e95588c77bd2</td>\n",
       "      <td>55388b54e4b099bcc1225caa</td>\n",
       "      <td>5668ad07e4b0f82be105f939</td>\n",
       "      <td>0</td>\n",
       "      <td>572192e8e4b0e7aba837de62</td>\n",
       "      <td>NaN</td>\n",
       "    </tr>\n",
       "    <tr>\n",
       "      <th>1</th>\n",
       "      <td>5723a735e4b0e6cbf9c142e0</td>\n",
       "      <td>5314327fe4b015a18eb92bab</td>\n",
       "      <td>5314327fe4b015a18eb92bab</td>\n",
       "      <td>5539dff8e4b09639b4f30375</td>\n",
       "      <td>559ba4619fa0c117ee299ea0</td>\n",
       "      <td>0</td>\n",
       "      <td>57111cd1e4b007de6512a839</td>\n",
       "      <td>NaN</td>\n",
       "    </tr>\n",
       "  </tbody>\n",
       "</table>\n",
       "</div>"
      ],
      "text/plain": [
       "                        pid                parent_cid  \\\n",
       "0  57223186e4b0af35cc801d63  50d595ec0364e95588c77bd2   \n",
       "1  5723a735e4b0e6cbf9c142e0  5314327fe4b015a18eb92bab   \n",
       "\n",
       "                        cid                  extraIds  \\\n",
       "0  50d595ec0364e95588c77bd2  55388b54e4b099bcc1225caa   \n",
       "1  5314327fe4b015a18eb92bab  5539dff8e4b09639b4f30375   \n",
       "\n",
       "                 templateId  staticVideos                     bidId  \\\n",
       "0  5668ad07e4b0f82be105f939             0  572192e8e4b0e7aba837de62   \n",
       "1  559ba4619fa0c117ee299ea0             0  57111cd1e4b007de6512a839   \n",
       "\n",
       "   playlistId  \n",
       "0         NaN  \n",
       "1         NaN  "
      ]
     },
     "execution_count": 34,
     "metadata": {},
     "output_type": "execute_result"
    }
   ],
   "source": [
    "players_df = pd.read_csv('./players_with_carousel_2017_07_30.csv')\n",
    "print 'number of players with carousel: ', players_df.shape[0]\n",
    "players_df.head(2)"
   ]
  },
  {
   "cell_type": "markdown",
   "metadata": {},
   "source": [
    "## 2) Extras \n",
    "**extraId,subType,uiPosition** , currently subType==CAROUSEL always\n",
    "```\n",
    "var extrasWithCarousel = db.extra.find({deleted:false, subType:\"CAROUSEL\"});\n",
    "var temp;\n",
    "print('extraId,subType,uiPosition')\n",
    "while ( extrasWithCarousel.hasNext() ){\n",
    "   temp = extrasWithCarousel.next();\n",
    "   print(temp._id.valueOf() + ',' + temp.subType + ',' + temp.uiPosition)\n",
    "}\n",
    "```"
   ]
  },
  {
   "cell_type": "code",
   "execution_count": 19,
   "metadata": {
    "collapsed": false
   },
   "outputs": [
    {
     "name": "stdout",
     "output_type": "stream",
     "text": [
      "['DEFAULT' 'BOTTOM']\n"
     ]
    },
    {
     "data": {
      "text/html": [
       "<div>\n",
       "<table border=\"1\" class=\"dataframe\">\n",
       "  <thead>\n",
       "    <tr style=\"text-align: right;\">\n",
       "      <th></th>\n",
       "      <th>extraId</th>\n",
       "      <th>subType</th>\n",
       "      <th>uiPosition</th>\n",
       "    </tr>\n",
       "  </thead>\n",
       "  <tbody>\n",
       "    <tr>\n",
       "      <th>28</th>\n",
       "      <td>551d1c1ee4b0297fa1beebcd</td>\n",
       "      <td>CAROUSEL</td>\n",
       "      <td>BOTTOM</td>\n",
       "    </tr>\n",
       "    <tr>\n",
       "      <th>32</th>\n",
       "      <td>55388b54e4b099bcc1225caa</td>\n",
       "      <td>CAROUSEL</td>\n",
       "      <td>BOTTOM</td>\n",
       "    </tr>\n",
       "    <tr>\n",
       "      <th>38</th>\n",
       "      <td>559f6a87e4b0c0b7288dadb6</td>\n",
       "      <td>CAROUSEL</td>\n",
       "      <td>BOTTOM</td>\n",
       "    </tr>\n",
       "  </tbody>\n",
       "</table>\n",
       "</div>"
      ],
      "text/plain": [
       "                     extraId   subType uiPosition\n",
       "28  551d1c1ee4b0297fa1beebcd  CAROUSEL     BOTTOM\n",
       "32  55388b54e4b099bcc1225caa  CAROUSEL     BOTTOM\n",
       "38  559f6a87e4b0c0b7288dadb6  CAROUSEL     BOTTOM"
      ]
     },
     "execution_count": 19,
     "metadata": {},
     "output_type": "execute_result"
    }
   ],
   "source": [
    "extras_df = pd.read_csv('./extras_with_carousel_2017_07_30.csv')\n",
    "extras_df['uiPosition'].replace('undefined','DEFAULT', inplace=True) # some are undefined but java fallback to default\n",
    "print extras_df.uiPosition.unique()\n",
    "extras_df[extras_df['uiPosition'] != 'DEFAULT'].head(20)"
   ]
  },
  {
   "cell_type": "code",
   "execution_count": 35,
   "metadata": {
    "collapsed": false
   },
   "outputs": [
    {
     "name": "stdout",
     "output_type": "stream",
     "text": [
      "number of players with carousel:  9485\n"
     ]
    },
    {
     "data": {
      "text/html": [
       "<div>\n",
       "<table border=\"1\" class=\"dataframe\">\n",
       "  <thead>\n",
       "    <tr style=\"text-align: right;\">\n",
       "      <th></th>\n",
       "      <th>pid</th>\n",
       "      <th>parent_cid</th>\n",
       "      <th>cid</th>\n",
       "      <th>templateId</th>\n",
       "      <th>staticVideos</th>\n",
       "      <th>bidId</th>\n",
       "      <th>playlistId</th>\n",
       "      <th>extraId</th>\n",
       "      <th>subType</th>\n",
       "      <th>uiPosition</th>\n",
       "    </tr>\n",
       "  </thead>\n",
       "  <tbody>\n",
       "    <tr>\n",
       "      <th>0</th>\n",
       "      <td>57223186e4b0af35cc801d63</td>\n",
       "      <td>50d595ec0364e95588c77bd2</td>\n",
       "      <td>50d595ec0364e95588c77bd2</td>\n",
       "      <td>5668ad07e4b0f82be105f939</td>\n",
       "      <td>0.0</td>\n",
       "      <td>572192e8e4b0e7aba837de62</td>\n",
       "      <td>NaN</td>\n",
       "      <td>55388b54e4b099bcc1225caa</td>\n",
       "      <td>CAROUSEL</td>\n",
       "      <td>BOTTOM</td>\n",
       "    </tr>\n",
       "    <tr>\n",
       "      <th>1</th>\n",
       "      <td>5730af47e4b059200314525f</td>\n",
       "      <td>5643911267b62318603bce5a</td>\n",
       "      <td>5643911267b62318603bce5a</td>\n",
       "      <td>56c21811e4b009d9eacb4ee9</td>\n",
       "      <td>0.0</td>\n",
       "      <td>NaN</td>\n",
       "      <td>NaN</td>\n",
       "      <td>55388b54e4b099bcc1225caa</td>\n",
       "      <td>CAROUSEL</td>\n",
       "      <td>BOTTOM</td>\n",
       "    </tr>\n",
       "  </tbody>\n",
       "</table>\n",
       "</div>"
      ],
      "text/plain": [
       "                        pid                parent_cid  \\\n",
       "0  57223186e4b0af35cc801d63  50d595ec0364e95588c77bd2   \n",
       "1  5730af47e4b059200314525f  5643911267b62318603bce5a   \n",
       "\n",
       "                        cid                templateId  staticVideos  \\\n",
       "0  50d595ec0364e95588c77bd2  5668ad07e4b0f82be105f939           0.0   \n",
       "1  5643911267b62318603bce5a  56c21811e4b009d9eacb4ee9           0.0   \n",
       "\n",
       "                      bidId  playlistId                   extraId   subType  \\\n",
       "0  572192e8e4b0e7aba837de62         NaN  55388b54e4b099bcc1225caa  CAROUSEL   \n",
       "1                       NaN         NaN  55388b54e4b099bcc1225caa  CAROUSEL   \n",
       "\n",
       "  uiPosition  \n",
       "0     BOTTOM  \n",
       "1     BOTTOM  "
      ]
     },
     "execution_count": 35,
     "metadata": {},
     "output_type": "execute_result"
    }
   ],
   "source": [
    "players_df = players_df.merge(extras_df, left_on='extraIds', right_on='extraId', how='right')\n",
    "players_df.drop('extraIds', axis=1, inplace=True)\n",
    "print 'number of players with carousel: ', players_df.shape[0]\n",
    "players_df.head(2)"
   ]
  },
  {
   "cell_type": "code",
   "execution_count": null,
   "metadata": {
    "collapsed": true
   },
   "outputs": [],
   "source": []
  }
 ],
 "metadata": {
  "kernelspec": {
   "display_name": "Python [conda root]",
   "language": "python",
   "name": "conda-root-py"
  },
  "language_info": {
   "codemirror_mode": {
    "name": "ipython",
    "version": 2
   },
   "file_extension": ".py",
   "mimetype": "text/x-python",
   "name": "python",
   "nbconvert_exporter": "python",
   "pygments_lexer": "ipython2",
   "version": "2.7.13"
  }
 },
 "nbformat": 4,
 "nbformat_minor": 2
}
