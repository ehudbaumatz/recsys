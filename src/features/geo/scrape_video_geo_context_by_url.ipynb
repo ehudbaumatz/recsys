{
 "cells": [
  {
   "cell_type": "markdown",
   "metadata": {},
   "source": [
    "# scraping video geo context \n",
    "### using url of the page that holds it\n",
    "this notebook creates a function that will scrape content of the given urls\n",
    "it then use this function on urls from the video views we retrieved from `vidible_raw` in order to create a url to locations table\n",
    "\n",
    "**NOTE** because we scrape the web-page content and not the video content later queries should be limited to `seq=1` \n",
    "(seq>1 are not necessarily related to the page content)\n",
    "\n",
    "scraping is done using **pup** cli tool, download: https://github.com/EricChiang/pup/releases/tag/v0.4.0\n",
    "\n",
    "https://github.com/ericchiang/pup"
   ]
  },
  {
   "cell_type": "markdown",
   "metadata": {},
   "source": [
    "define:\n",
    "\n",
    "**site_scrape_dict**: site to css selector dictionary\n",
    "\n",
    "**extract_locales**: function that get 'site' and 'url' args and return set of locations"
   ]
  },
  {
   "cell_type": "code",
   "execution_count": 1,
   "metadata": {
    "collapsed": true
   },
   "outputs": [],
   "source": [
    "import numpy as np\n",
    "import pandas as pd\n",
    "\n",
    "from spacy.symbols import pobj\n",
    "\n",
    "site_scrape_dict = {\n",
    "    # the following represents html selector to retrieve the header + 2 first test paragraphs\n",
    "    'aol.com': '#article-wrapper h1, #article-wrapper > div.article-content > p:nth-child(2) , #article-wrapper > div.article-content > p:nth-child(3)',\n",
    "    'homepage.aol.com': '#article-wrapper h1, #article-wrapper > div.article-content > p:nth-child(2) , #article-wrapper > div.article-content > p:nth-child(3)',\n",
    "    'hp-desktop.aol.com': '#article-wrapper h1, #article-wrapper > div.article-content > p:nth-child(2) , #article-wrapper > div.article-content > p:nth-child(3)',\n",
    "    'help.aol.com': '#article-wrapper h1, #article-wrapper > div.article-content > p:nth-child(2) , #articlex-wrapper > div.article-content > p:nth-child(3)', # we might need to exclude it\n",
    "    'aol.co.uk': 'body > div.lo-container > div > section > article > header > div.show-article-title > h1, body > div.lo-container > div > section > article > section:nth-child(2) > div > div > p:nth-child(2), body > div.lo-container > div > section > article > section:nth-child(2) > div > div > p:nth-child(3), body > div.lo-container > div > section > article > section:nth-child(2) > div > div > p:nth-child(4)',\n",
    "    'build.aol.com': '#build-video-player > div.video-content-main > div.videoplayer-info > div > div.videotext > h1, #build-video-player > div.video-content-main > div.videoplayer-info > div > div.videotext > span.videodesc',\n",
    "}\n",
    "\n",
    "def extract_locales(url, site):\n",
    "    \"\"\" returns a set of gpe unicode strings \"\"\"\n",
    "    raw_text = _scrape_site(url, site)\n",
    "#     print(raw_text) #debugging\n",
    "    gpe_list = _get_gpes(raw_text)\n",
    "    return gpe_list\n",
    "\n",
    "\n",
    "import spacy\n",
    "nlp = spacy.load('en')\n",
    "\n",
    "def _get_gpes(raw_text):\n",
    "    \"\"\"\n",
    "\n",
    "    \"\"\"\n",
    "    gpe_list = set()\n",
    "    if raw_text is None:\n",
    "        return gpe_list\n",
    "    raw_text = raw_text.strip().replace(\"\\n\", \" \").replace(\"\\r\", \" \")\n",
    "    doc = nlp(raw_text)\n",
    "    for chunk in list(doc.noun_chunks):\n",
    "        gpe = None\n",
    "        isPobj = False\n",
    "        for sub_chunk in list(chunk.subtree):\n",
    "            if(sub_chunk.ent_type_ == 'GPE'):\n",
    "                gpe = sub_chunk.string\n",
    "            if(sub_chunk.dep == pobj):\n",
    "                isPobj = True\n",
    "        if ((gpe != None) & isPobj):\n",
    "#             print(gpe)  # same value can be added more then once - chunk.subtree may return the same phrase more then once\n",
    "            gpe_list.add(gpe)\n",
    "    return gpe_list\n",
    "\n",
    "    # list(list(doc.noun_chunks)[6].subtree)[1].ent_type_\n",
    "    # list(list(doc.noun_chunks)[6].subtree)[2].dep_\n",
    "\n",
    "\n",
    "import subprocess\n",
    "\n",
    "def _scrape_site(url, site):\n",
    "    if site in site_scrape_dict:\n",
    "        html_selector = site_scrape_dict[site]\n",
    "    else:\n",
    "        html_selector = 'h1' # this might be dangerous - returning to many results ..\n",
    "        # return ''  another option is to scrape only sites we know\n",
    "    command = \"curl -s '\" + url + \"' |pup '\" + html_selector + \" text{}'\"\n",
    "#     print(\"DEBUG scrape: {}\".format(command))\n",
    "    p = subprocess.Popen(command, shell=True, stdout=subprocess.PIPE, stderr=subprocess.PIPE)\n",
    "    out, err = p.communicate()\n",
    "    if out:\n",
    "        return out.decode('utf-8')\n",
    "    if err:\n",
    "        print(\"failed to scrape {}\".format(url))\n",
    "        return ''"
   ]
  },
  {
   "cell_type": "markdown",
   "metadata": {},
   "source": [
    "create a unique ['url', 'site'] \n",
    "\n",
    "**NOTE** in this example we take only 5 rows (scraping may run for a long time)"
   ]
  },
  {
   "cell_type": "code",
   "execution_count": 17,
   "metadata": {
    "collapsed": false
   },
   "outputs": [
    {
     "name": "stdout",
     "output_type": "stream",
     "text": [
      "num of rows (before unique): 5\n",
      "columns: Index([u'r', u'site'], dtype='object')\n",
      "num of rows for scraping: 4\n"
     ]
    }
   ],
   "source": [
    "df = pd.read_csv('/Users/ezer/dev/ml/factorization_matrix/baseline/data/memsql/memsql_test3.csv', skiprows=1000, header=1, nrows=5, parse_dates=['reporttime'], names=['ip','sid','vid','seq','site','r','pid','countrycode','stateprovince','city','devType','max_vpt','max_t','max_pct','reporttime'])\n",
    "print(\"num of rows (before unique): {}\".format(df.shape[0]))\n",
    "df = df.filter(['r','site'], axis=1)  # df['seq'] == 1\n",
    "df = df.groupby(['r', 'site']).count() #.reset_index()\n",
    "df = df.reset_index()\n",
    "print(\"columns: {}\".format(df.columns))\n",
    "print(\"num of rows for scraping: {}\".format(df.shape[0]))\n",
    "if df.shape[0] > 10:\n",
    "    print(\"WARNING! executing large number of rows may take a long while: {}\".format(df.shape[0]))"
   ]
  },
  {
   "cell_type": "markdown",
   "metadata": {},
   "source": [
    "create a new csv that will hold url to extracted locations (pipe delimited)"
   ]
  },
  {
   "cell_type": "code",
   "execution_count": 20,
   "metadata": {
    "collapsed": false
   },
   "outputs": [
    {
     "name": "stdout",
     "output_type": "stream",
     "text": [
      "*** Done! ***\n"
     ]
    }
   ],
   "source": [
    "total = df.shape[0]\n",
    "current = 0\n",
    "OUTPUT_FILE = '/tmp/locals_of_urls.csv'\n",
    "with open(OUTPUT_FILE,'w') as f:\n",
    "    f.write('url,locations\\n')\n",
    "    for index, row in df.iterrows():\n",
    "        url, site = row['r'], row['site']\n",
    "        local_set = extract_locales(url, site)\n",
    "        csv_locals = '|'.join(str(s).strip() for s in local_set)\n",
    "        line = \"{},{}\\n\".format(url, csv_locals)\n",
    "        f.write(line)\n",
    "        current+=1\n",
    "        if current%10 == 0: # print every 10 urls (reduce garbage..)\n",
    "            print(\"adding [{} of {}], url: {}\".format(current, total, url))\n",
    "print \"*** Done! ***\""
   ]
  },
  {
   "cell_type": "markdown",
   "metadata": {},
   "source": [
    "check the result of the new file"
   ]
  },
  {
   "cell_type": "code",
   "execution_count": 21,
   "metadata": {
    "collapsed": false
   },
   "outputs": [
    {
     "name": "stdout",
     "output_type": "stream",
     "text": [
      "locations_df num of rows: 4\n"
     ]
    },
    {
     "data": {
      "text/html": [
       "<div>\n",
       "<table border=\"1\" class=\"dataframe\">\n",
       "  <thead>\n",
       "    <tr style=\"text-align: right;\">\n",
       "      <th></th>\n",
       "      <th>url</th>\n",
       "      <th>locations</th>\n",
       "    </tr>\n",
       "  </thead>\n",
       "  <tbody>\n",
       "    <tr>\n",
       "      <th>0</th>\n",
       "      <td>https://www.aol.com/article/entertainment/2017...</td>\n",
       "      <td></td>\n",
       "    </tr>\n",
       "    <tr>\n",
       "      <th>1</th>\n",
       "      <td>https://www.aol.com/article/entertainment/2017...</td>\n",
       "      <td></td>\n",
       "    </tr>\n",
       "    <tr>\n",
       "      <th>2</th>\n",
       "      <td>https://www.aol.com/article/news/2017/06/23/of...</td>\n",
       "      <td>Alabama</td>\n",
       "    </tr>\n",
       "    <tr>\n",
       "      <th>3</th>\n",
       "      <td>https://www.aol.com/article/news/2017/06/24/fl...</td>\n",
       "      <td>Florida</td>\n",
       "    </tr>\n",
       "  </tbody>\n",
       "</table>\n",
       "</div>"
      ],
      "text/plain": [
       "                                                 url locations\n",
       "0  https://www.aol.com/article/entertainment/2017...          \n",
       "1  https://www.aol.com/article/entertainment/2017...          \n",
       "2  https://www.aol.com/article/news/2017/06/23/of...   Alabama\n",
       "3  https://www.aol.com/article/news/2017/06/24/fl...   Florida"
      ]
     },
     "execution_count": 21,
     "metadata": {},
     "output_type": "execute_result"
    }
   ],
   "source": [
    "locations_df = pd.read_csv(OUTPUT_FILE, na_filter='')\n",
    "print(\"locations_df num of rows: {}\".format(locations_df.shape[0]))\n",
    "if (locations_df.shape[0] != df.shape[0]):\n",
    "    print(\"there is a count mismatch between original: {} and location urls: {}\")\n",
    "locations_df.head()"
   ]
  },
  {
   "cell_type": "code",
   "execution_count": null,
   "metadata": {
    "collapsed": true
   },
   "outputs": [],
   "source": []
  }
 ],
 "metadata": {
  "kernelspec": {
   "display_name": "Python [conda root]",
   "language": "python",
   "name": "conda-root-py"
  },
  "language_info": {
   "codemirror_mode": {
    "name": "ipython",
    "version": 2
   },
   "file_extension": ".py",
   "mimetype": "text/x-python",
   "name": "python",
   "nbconvert_exporter": "python",
   "pygments_lexer": "ipython2",
   "version": "2.7.13"
  }
 },
 "nbformat": 4,
 "nbformat_minor": 2
}
